{
 "cells": [
  {
   "cell_type": "code",
   "execution_count": 1,
   "id": "23e3bd8f",
   "metadata": {},
   "outputs": [],
   "source": [
    "import pandas as pd\n",
    "import numpy as np\n",
    "import tkinter as tk\n",
    "from tkinter import simpledialog "
   ]
  },
  {
   "cell_type": "code",
   "execution_count": 2,
   "id": "e16e68f9",
   "metadata": {},
   "outputs": [],
   "source": [
    "#Load your Excel file into a pandas DataFrame\n",
    "excel_file = pd.read_csv(r'E:\\Concordia University\\Term 4\\Capestone\\Test code\\excel.csv')\n",
    "\n",
    "# Extract the column names as criteria\n",
    "criteria = excel_file.columns.tolist()"
   ]
  },
  {
   "cell_type": "code",
   "execution_count": 3,
   "id": "870b5a8e",
   "metadata": {},
   "outputs": [
    {
     "name": "stdout",
     "output_type": "stream",
     "text": [
      "Do you want to consider the column 'Vendor' for pairwise comparison? (yes/no)(just type y/n): y\n",
      "Do you want to consider the column 'cost(cad)' for pairwise comparison? (yes/no)(just type y/n): y\n",
      "Do you want to consider the column 'Review rating(5)' for pairwise comparison? (yes/no)(just type y/n): y\n",
      "Do you want to consider the column 'distance(KM)' for pairwise comparison? (yes/no)(just type y/n): n\n",
      "Do you want to consider the column 'Quality' for pairwise comparison? (yes/no)(just type y/n): n\n",
      "Do you want to consider the column 'Environmental' for pairwise comparison? (yes/no)(just type y/n): n\n"
     ]
    }
   ],
   "source": [
    "# Create a function to input pairwise comparisons using a Tkinter dialog\n",
    "def input_comparison(i, j):\n",
    "    root = tk.Tk()\n",
    "    root.withdraw()\n",
    "    value = simpledialog.askfloat(f\"Compare {criteria[i]} and {criteria[j]}\", \"Enter the comparison value (1 for equal importance, 3 for moderate importance, 5 for strong importance, and so on):\")\n",
    "    root.destroy()\n",
    "    return value\n",
    "\n",
    "# Create a dictionary to store user choices (yes/no) for each column\n",
    "column_choices = {}\n",
    "\n",
    "# Ask the user for column choices (yes or no)\n",
    "for col in criteria:\n",
    "    choice = input(f\"Do you want to consider the column '{col}' for pairwise comparison? (yes/no)(just type y/n): \")\n",
    "    if choice.lower() == \"y\":\n",
    "        column_choices[col] = True\n",
    "    else:\n",
    "        column_choices[col] = False\n",
    "\n",
    "def create_pairwise_matrix(criteria, choices):\n",
    "    n = len(criteria)\n",
    "    matrix = np.ones((n, n))\n",
    "\n",
    "    for i in range(n):\n",
    "        for j in range(i + 1, n):\n",
    "            if choices[criteria[i]] and choices[criteria[j]]:\n",
    "                value = input_comparison(i, j)\n",
    "                matrix[i][j] = value\n",
    "                matrix[j][i] = 1.0 / value\n",
    "\n",
    "    return matrix\n",
    "\n",
    "\n",
    "\n"
   ]
  },
  {
   "cell_type": "code",
   "execution_count": 4,
   "id": "85e330f1",
   "metadata": {},
   "outputs": [
    {
     "name": "stdout",
     "output_type": "stream",
     "text": [
      "Pairwise Comparison Matrix:\n",
      "1.00 3.00 1.00 1.00 1.00 1.00\n",
      "0.33 1.00 5.00 1.00 1.00 1.00\n",
      "1.00 0.20 1.00 1.00 1.00 1.00\n",
      "1.00 1.00 1.00 1.00 1.00 1.00\n",
      "1.00 1.00 1.00 1.00 1.00 1.00\n",
      "1.00 1.00 1.00 1.00 1.00 1.00\n",
      "Normalized Pairwise Comparison Matrix:\n",
      "[[0.1875     0.41666667 0.1        0.16666667 0.16666667 0.16666667]\n",
      " [0.0625     0.13888889 0.5        0.16666667 0.16666667 0.16666667]\n",
      " [0.1875     0.02777778 0.1        0.16666667 0.16666667 0.16666667]\n",
      " [0.1875     0.13888889 0.1        0.16666667 0.16666667 0.16666667]\n",
      " [0.1875     0.13888889 0.1        0.16666667 0.16666667 0.16666667]\n",
      " [0.1875     0.13888889 0.1        0.16666667 0.16666667 0.16666667]]\n",
      "\n",
      "Criteria Weights:\n",
      "Vendor: 0.201\n",
      "cost(cad): 0.200\n",
      "Review rating(5): 0.136\n",
      "distance(KM): 0.154\n",
      "Quality: 0.154\n",
      "Environmental: 0.154\n",
      "\n",
      "Consistency Ratio (CR): (0.09843223568745814+0j)\n",
      "The matrix is consistent.\n"
     ]
    }
   ],
   "source": [
    "# Example usage:\n",
    "pairwise_matrix = create_pairwise_matrix(criteria, column_choices)\n",
    "\n",
    "# Print the pairwise comparison matrix\n",
    "print(\"Pairwise Comparison Matrix:\")\n",
    "for i in range(len(pairwise_matrix)):\n",
    "    print(\" \".join([f\"{value:.2f}\" for value in pairwise_matrix[i]]))\n",
    "\n",
    "# The rest of your code for normalization, criteria weights\n",
    "normalized_matrix = pairwise_matrix / pairwise_matrix.sum(axis=0)# method 3 for eigenvector\n",
    "criteria_weights = normalized_matrix.mean(axis=1)\n",
    "n = len(criteria_weights)\n",
    "eigenvalue, eigenvector = np.linalg.eig(pairwise_matrix)\n",
    "max_eigenvalue = max(eigenvalue)\n",
    "consistency_index = (max_eigenvalue - n) / (n - 1)\n",
    "random_index = {\n",
    "    1: 0.00,\n",
    "    2: 0.00,\n",
    "    3: 0.58,\n",
    "    4: 0.90,\n",
    "    5: 1.12,\n",
    "    6: 1.24,\n",
    "    7: 1.32,\n",
    "    8: 1.41,\n",
    "    9: 1.45,\n",
    "    10: 1.49\n",
    "}\n",
    "consistency_ratio = consistency_index / random_index[n]\n",
    "\n",
    "# Print the results\n",
    "print(\"Normalized Pairwise Comparison Matrix:\")\n",
    "print(normalized_matrix)\n",
    "print(\"\\nCriteria Weights:\")\n",
    "for i, weight in enumerate(criteria_weights):\n",
    "    print(f\"{criteria[i]}: {weight:.3f}\")\n",
    "print(\"\\nConsistency Ratio (CR):\", consistency_ratio)\n",
    "\n",
    "\n",
    "if consistency_ratio < 0.1:\n",
    "    print(\"The matrix is consistent.\")\n",
    "else:\n",
    "    print(\"The matrix is inconsistent.\")\n"
   ]
  },
  {
   "cell_type": "code",
   "execution_count": null,
   "id": "4e4278d1",
   "metadata": {},
   "outputs": [],
   "source": []
  },
  {
   "cell_type": "code",
   "execution_count": null,
   "id": "334b2c26",
   "metadata": {},
   "outputs": [],
   "source": []
  }
 ],
 "metadata": {
  "kernelspec": {
   "display_name": "Python 3 (ipykernel)",
   "language": "python",
   "name": "python3"
  },
  "language_info": {
   "codemirror_mode": {
    "name": "ipython",
    "version": 3
   },
   "file_extension": ".py",
   "mimetype": "text/x-python",
   "name": "python",
   "nbconvert_exporter": "python",
   "pygments_lexer": "ipython3",
   "version": "3.11.3"
  }
 },
 "nbformat": 4,
 "nbformat_minor": 5
}
